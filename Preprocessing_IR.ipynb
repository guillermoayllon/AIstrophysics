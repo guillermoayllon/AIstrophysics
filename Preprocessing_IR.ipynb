{
 "cells": [
  {
   "cell_type": "code",
   "execution_count": null,
   "metadata": {},
   "outputs": [],
   "source": [
    "import pandas as pd\n",
    "#!pip install wget\n",
    "import wget\n",
    "import numpy as np\n",
    "from tqdm.notebook import tqdm\n",
    "from astropy.io import fits\n",
    "from astropy.table import Table\n",
    "import csv\n",
    "import matplotlib.pyplot as plt\n",
    "from IPython.display import display # Allows the use of display() for displaying DataFrames\n",
    "import seaborn as sns\n",
    "import matplotlib.pyplot as plt"
   ]
  },
  {
   "cell_type": "markdown",
   "metadata": {
    "id": "dilhDaIkD8Gs"
   },
   "source": [
    "# IMPORT PLATE NAMES"
   ]
  },
  {
   "cell_type": "code",
   "execution_count": null,
   "metadata": {
    "scrolled": true
   },
   "outputs": [],
   "source": [
    "#These files are provided by the data survey and contain the names and parameters of the stars\n",
    "\n",
    "wget.download('https://data.sdss.org/sas/dr16/sdss/sspp/ssppOut-dr12.fits') #optic data\n",
    "wget.download('https://data.sdss.org/sas/dr16/apogee/spectro/aspcap/r12/l33/allStar-r12-l33.fits') #IR data\n"
   ]
  },
  {
   "cell_type": "code",
   "execution_count": null,
   "metadata": {
    "colab": {
     "base_uri": "https://localhost:8080/",
     "height": 481
    },
    "executionInfo": {
     "elapsed": 857,
     "status": "ok",
     "timestamp": 1621675701171,
     "user": {
      "displayName": "Alonso Campos",
      "photoUrl": "",
      "userId": "06037273757854566691"
     },
     "user_tz": -120
    },
    "id": "MEYelNwRD8G2",
    "outputId": "b3e0a624-1dda-4d54-d047-e9c785babc00",
    "scrolled": true
   },
   "outputs": [],
   "source": [
    "#In this notebook we preprocess the IR data\n",
    "df = Table.read('allStar-r12-l33.fits', hdu=1)\n",
    "df[0]"
   ]
  },
  {
   "cell_type": "code",
   "execution_count": null,
   "metadata": {},
   "outputs": [],
   "source": [
    "#We are going to download the spectra here:\n",
    "save_path = 'Downloaded_IR/'"
   ]
  },
  {
   "cell_type": "markdown",
   "metadata": {
    "id": "AG7TGDHID8G3"
   },
   "source": [
    "# DOWNLOAD SPECTRA"
   ]
  },
  {
   "cell_type": "code",
   "execution_count": null,
   "metadata": {
    "colab": {
     "base_uri": "https://localhost:8080/",
     "height": 182,
     "referenced_widgets": [
      "54c6f80e52904c7bad8e97462dcf1c27",
      "ccfe9525511748b7bbd224ca8d93b0dc",
      "6f5cfde0be404d3baf55d152be7055eb",
      "5efeb17bb9d54122aa3f10451b1cbdd6",
      "3653b73a8c074bc6acfb48811d013e68",
      "87c88b42312243c193303d2b95835036",
      "1c5b2b35a8914b2fa249dc7416bc32e6",
      "f826097864bf443298255c0f6bdc7f8d"
     ]
    },
    "id": "h3P6CVoYD8G5",
    "outputId": "d87069a6-d46a-4e08-c109-1b05765104cc",
    "scrolled": true
   },
   "outputs": [],
   "source": [
    "used_plates = []\n",
    "error_plates = []\n",
    "\n",
    "for i in tqdm(range(0,50000)):\n",
    "    \n",
    "\n",
    "    TELESCOPE = str(df[i]['TELESCOPE'])\n",
    "    FIELD = str(df[i]['FIELD'])\n",
    "    FILE = str(df[i]['FILE'])\n",
    "\n",
    "\n",
    "    url = 'https://data.sdss.org/sas/dr16/apogee/spectro/aspcap/r12/l33/'+TELESCOPE+'/'+FIELD+'/'+FILE\n",
    "\n",
    "    try:\n",
    "   \n",
    "        wget.download(url, out = save_path)\n",
    "        used_plates.append(i)\n",
    "\n",
    "    except:\n",
    "        \n",
    "        try:\n",
    "            \n",
    "            FILE = 'aspcap' + FILE[2:]\n",
    "            url = 'https://data.sdss.org/sas/dr16/apogee/spectro/aspcap/r12/l33/'+TELESCOPE+'/'+FIELD+'/'+FILE\n",
    "            wget.download(url, out = save_path)\n",
    "            print('SUCCESS')\n",
    "            used_plates.append(i)\n",
    "            \n",
    "        except:\n",
    "            error_plates.append(i)\n",
    "            print('ERROR:')\n",
    "            print(url)\n",
    "\n",
    "np.save(save_path+'used_plates', used_plates) \n",
    "np.save(save_path+'error_plates', error_plates)"
   ]
  },
  {
   "cell_type": "markdown",
   "metadata": {},
   "source": [
    "# VISUALIZE DATA"
   ]
  },
  {
   "cell_type": "code",
   "execution_count": null,
   "metadata": {
    "colab": {
     "base_uri": "https://localhost:8080/"
    },
    "executionInfo": {
     "elapsed": 836,
     "status": "ok",
     "timestamp": 1621675672611,
     "user": {
      "displayName": "Alonso Campos",
      "photoUrl": "",
      "userId": "06037273757854566691"
     },
     "user_tz": -120
    },
    "id": "4t9D2DDLD8G8",
    "outputId": "e04771b3-fb49-46e6-db39-a82fa2d76993",
    "scrolled": true
   },
   "outputs": [],
   "source": [
    "i = 10\n",
    "\n",
    "ID = str(df[i][\"APOGEE_ID\"])\n",
    "FeH = str(df[i][\"FE_H\"])\n",
    "TEff = str(df[i][\"TEFF\"])\n",
    "SpType = str(df[i][\"ASPCAP_CLASS\"])\n",
    "LogG = str(df[i][\"LOGG\"])\n",
    "print([ID,FeH,TEff,SpType,LogG])\n",
    "\n",
    "FILE = str(df[i]['FILE'])\n",
    "FILE = 'aspcap' + FILE[2:]\n",
    "data = fits.open('Downloaded_IR/' + FILE)\n",
    "data.info()"
   ]
  },
  {
   "cell_type": "code",
   "execution_count": null,
   "metadata": {},
   "outputs": [],
   "source": [
    "#This is the real data that we are interested in.\n",
    "plt.plot(data[1].data)\n",
    "plt.ylabel('Flux')\n",
    "plt.xlabel('Wavelength [log]')\n",
    "plt.show()"
   ]
  },
  {
   "cell_type": "code",
   "execution_count": null,
   "metadata": {
    "colab": {
     "base_uri": "https://localhost:8080/",
     "height": 279
    },
    "executionInfo": {
     "elapsed": 569,
     "status": "ok",
     "timestamp": 1621675681004,
     "user": {
      "displayName": "Alonso Campos",
      "photoUrl": "",
      "userId": "06037273757854566691"
     },
     "user_tz": -120
    },
    "id": "GWGVGofiD8G_",
    "outputId": "f312381d-6b2c-49b5-c53d-91496db48309"
   },
   "outputs": [],
   "source": [
    "#This is simulated data, not real.\n",
    "plt.plot(data[3].data)\n",
    "plt.ylabel('Flux')\n",
    "plt.xlabel('Wavelength [log]')\n",
    "plt.show()"
   ]
  },
  {
   "cell_type": "markdown",
   "metadata": {
    "id": "iT9PEh78J7w0"
   },
   "source": [
    "# FROM DOWNLOADED TO .csv"
   ]
  },
  {
   "cell_type": "code",
   "execution_count": null,
   "metadata": {},
   "outputs": [],
   "source": [
    "#We want to specify the number of the channels as columns in the final data file. This block\n",
    "#creates the vector with the numbre of channels.\n",
    "#We decide to reduce the resolution of the spectra to 1/3 to reduce the weight of the file.\n",
    "row = 0\n",
    "\n",
    "ID = str(df[row][\"APOGEE_ID\"])\n",
    "FeH = str(df[row][\"FE_H\"])\n",
    "TEff = str(df[row][\"TEFF\"])\n",
    "SpType = str(df[row][\"ASPCAP_CLASS\"])\n",
    "LogG = str(df[row][\"LOGG\"])\n",
    "\n",
    "    \n",
    "FILE = str(df[row]['FILE'])\n",
    "FILE = 'aspcap' + FILE[2:]\n",
    "\n",
    "print([FILE,ID,FeH,TEff,SpType,LogG])\n",
    "\n",
    "\n",
    "data = fits.open(save_path + FILE)\n",
    "flux = data[1].data\n",
    "\n",
    "compressed_wave = []\n",
    "number_compressed_entries = len(flux)//3\n",
    "\n",
    "for i in range(1,number_compressed_entries+1):\n",
    "    compressed_wave.append(i)"
   ]
  },
  {
   "cell_type": "code",
   "execution_count": null,
   "metadata": {
    "id": "m4LzVyu4mh6C",
    "scrolled": true
   },
   "outputs": [],
   "source": [
    "first_index = 0\n",
    "last_index = 50000\n",
    "\n",
    "with open('data_IR.csv', 'w', newline='') as file:\n",
    "  \n",
    "    writer = csv.writer(file)\n",
    "    writer.writerow(np.concatenate((np.asarray([\"ID\", \"Fe/H\", \"T\", \"Spec_Type\", \"logG\"]), np.asarray(compressed_wave))))\n",
    "  \n",
    "    for row in tqdm(range(first_index,last_index)):  \n",
    "\n",
    "        FILE = str(df[row]['FILE'])\n",
    "        FILE = 'aspcap' + FILE[2:]\n",
    "        \n",
    "\n",
    "        try:\n",
    "            \n",
    "            data = fits.open(save_path + FILE)\n",
    "            flux = data[1].data\n",
    "\n",
    "            compressed_flux = []\n",
    "            number_compressed_entries = len(flux)//3\n",
    "\n",
    "            for i in range(number_compressed_entries):\n",
    "                total_sum = (float(flux[3*(i + 1) - 3]) + float(flux[3*(i + 1) - 2]) + float(flux[3*(i + 1) - 1]))\n",
    "                average = total_sum/3\n",
    "                compressed_flux.append(average)\n",
    "\n",
    "            ID = str(df[row][\"APOGEE_ID\"])\n",
    "            FeH = str(df[row][\"FE_H\"])\n",
    "            TEff = str(df[row][\"TEFF\"])\n",
    "            SpType = str(df[row][\"ASPCAP_CLASS\"])\n",
    "            LogG = str(df[row][\"LOGG\"])\n",
    "            print([FILE,ID,FeH,TEff,SpType,LogG])\n",
    "\n",
    "            array_to_save = np.concatenate((np.asarray([ID, FeH, TEff, SpType, LogG]), np.asarray(compressed_flux)))\n",
    "            writer.writerow(array_to_save)\n",
    "\n",
    "\n",
    "        except:\n",
    "            print('ERROR')\n",
    "            continue\n"
   ]
  },
  {
   "cell_type": "markdown",
   "metadata": {},
   "source": [
    "# EDA AND PREPROCESSING"
   ]
  },
  {
   "cell_type": "code",
   "execution_count": null,
   "metadata": {},
   "outputs": [],
   "source": [
    "df = pd.read_csv('data_IR.csv')\n",
    "df.head()"
   ]
  },
  {
   "cell_type": "code",
   "execution_count": null,
   "metadata": {
    "colab": {
     "base_uri": "https://localhost:8080/"
    },
    "id": "MTjYpQ-RkIJQ",
    "outputId": "c3ad89e6-a3bc-4234-d8cc-953164fd083c"
   },
   "outputs": [],
   "source": [
    "df.isnull().sum()"
   ]
  },
  {
   "cell_type": "code",
   "execution_count": null,
   "metadata": {
    "colab": {
     "base_uri": "https://localhost:8080/"
    },
    "id": "08cean6smZzT",
    "outputId": "47252674-a199-403f-fd96-7137759da6d9"
   },
   "outputs": [],
   "source": [
    "df.info()"
   ]
  },
  {
   "cell_type": "markdown",
   "metadata": {},
   "source": [
    "Remove zeros:"
   ]
  },
  {
   "cell_type": "code",
   "execution_count": null,
   "metadata": {
    "id": "B4yQUHBDV-7o"
   },
   "outputs": [],
   "source": [
    "estadisticas = df.describe()\n",
    "estadisticas\n",
    "est_tras = estadisticas.T"
   ]
  },
  {
   "cell_type": "code",
   "execution_count": null,
   "metadata": {
    "colab": {
     "base_uri": "https://localhost:8080/"
    },
    "id": "ZCid7H6nWX3A",
    "outputId": "47bbf362-9f52-4623-bdb0-39ca51a96268"
   },
   "outputs": [],
   "source": [
    "boss = est_tras[est_tras['mean']==0]\n",
    "boss.index"
   ]
  },
  {
   "cell_type": "code",
   "execution_count": null,
   "metadata": {
    "colab": {
     "base_uri": "https://localhost:8080/",
     "height": 422
    },
    "id": "_yNq-aQeZrjs",
    "outputId": "84716bc7-748b-40cd-c812-ad117611a011"
   },
   "outputs": [],
   "source": [
    "df_1 = df\n",
    "df_1 = df_1.drop(columns=boss.index,axis=0)\n",
    "df_1.head()"
   ]
  },
  {
   "cell_type": "code",
   "execution_count": null,
   "metadata": {
    "colab": {
     "base_uri": "https://localhost:8080/",
     "height": 402
    },
    "id": "vjdu-MI0sQGR",
    "outputId": "5bb1c4e4-5e6d-4c37-a7ee-43924da0cc47"
   },
   "outputs": [],
   "source": [
    "etiquetas =pd.DataFrame(data=df,columns=['T','Fe/H','Spec_Type','logG'])\n",
    "etiquetas"
   ]
  },
  {
   "cell_type": "markdown",
   "metadata": {},
   "source": [
    "Remove outliers:"
   ]
  },
  {
   "cell_type": "code",
   "execution_count": null,
   "metadata": {
    "colab": {
     "base_uri": "https://localhost:8080/",
     "height": 282
    },
    "id": "B-oKxsUBcqOI",
    "outputId": "8b63f076-68d2-415e-9485-678603459f9c"
   },
   "outputs": [],
   "source": [
    "df_1['T'].hist()"
   ]
  },
  {
   "cell_type": "code",
   "execution_count": null,
   "metadata": {
    "colab": {
     "base_uri": "https://localhost:8080/",
     "height": 283
    },
    "id": "-Kd_hesLd3KI",
    "outputId": "0b43c6b9-85ff-41aa-c9a3-1024c43b0a94"
   },
   "outputs": [],
   "source": [
    "df_1 = df_1[df_1['T']>0]\n",
    "df_1.head()\n",
    "df_1['T'].hist()"
   ]
  },
  {
   "cell_type": "code",
   "execution_count": null,
   "metadata": {},
   "outputs": [],
   "source": [
    "df_1['Fe/H'].hist()"
   ]
  },
  {
   "cell_type": "code",
   "execution_count": null,
   "metadata": {
    "colab": {
     "base_uri": "https://localhost:8080/",
     "height": 282
    },
    "id": "WD7RrHm2eXtb",
    "outputId": "5838a7b2-1cba-47b1-a1aa-49df1876b773"
   },
   "outputs": [],
   "source": [
    "df_1 = df_1[df_1['Fe/H'] > -2000]\n",
    "df_1['Fe/H'].hist()"
   ]
  },
  {
   "cell_type": "code",
   "execution_count": null,
   "metadata": {
    "colab": {
     "base_uri": "https://localhost:8080/",
     "height": 282
    },
    "id": "KT8jOmN7f443",
    "outputId": "a1adc3e8-9e96-4d17-f959-b1946b25fc55"
   },
   "outputs": [],
   "source": [
    "df_1['logG'].hist(bins=20)"
   ]
  },
  {
   "cell_type": "code",
   "execution_count": null,
   "metadata": {},
   "outputs": [],
   "source": [
    "df_1 = df_1[df_1['logG'] > -2000]\n",
    "df_1['logG'].hist(bins=20)"
   ]
  },
  {
   "cell_type": "code",
   "execution_count": null,
   "metadata": {
    "colab": {
     "base_uri": "https://localhost:8080/"
    },
    "id": "4iziNgzTgb0Y",
    "outputId": "22a10b9e-17ec-4290-ff0f-de924d31432a"
   },
   "outputs": [],
   "source": [
    "tipo_esp = df_1[df_1['logG'] <0]['Spec_Type']\n",
    "tipo_esp"
   ]
  },
  {
   "cell_type": "code",
   "execution_count": null,
   "metadata": {
    "id": "SkAoHPNthwK9"
   },
   "outputs": [],
   "source": [
    "#save clean data set\n",
    "df_1.to_csv('data_IR_clean.csv')"
   ]
  },
  {
   "cell_type": "markdown",
   "metadata": {},
   "source": [
    "Explore labels:"
   ]
  },
  {
   "cell_type": "code",
   "execution_count": null,
   "metadata": {
    "colab": {
     "base_uri": "https://localhost:8080/",
     "height": 584
    },
    "id": "ulXAmBPWpF0-",
    "outputId": "354bb365-aaaf-4f35-d892-ca1ece1e473d"
   },
   "outputs": [],
   "source": [
    "plt.figure(figsize=(50, 50))\n",
    "sns.pairplot(df_1,vars=['T','Fe/H','logG'],hue='Spec_Type')"
   ]
  },
  {
   "cell_type": "code",
   "execution_count": null,
   "metadata": {
    "colab": {
     "base_uri": "https://localhost:8080/",
     "height": 386
    },
    "id": "SfZPZS3yobPs",
    "outputId": "2bad49d2-6cea-44f7-a202-7dca00038819",
    "scrolled": true
   },
   "outputs": [],
   "source": [
    "sns.catplot(data=df_1, y = df_1['T'], kind = 'box')"
   ]
  },
  {
   "cell_type": "code",
   "execution_count": null,
   "metadata": {
    "colab": {
     "base_uri": "https://localhost:8080/",
     "height": 386
    },
    "id": "dV9KqrAzoeci",
    "outputId": "2ed6b336-1fe6-4bae-9b57-ade329cf2480",
    "scrolled": true
   },
   "outputs": [],
   "source": [
    "sns.catplot(data=df_1, y = df_1['Fe/H'], kind = 'box')"
   ]
  },
  {
   "cell_type": "code",
   "execution_count": null,
   "metadata": {
    "id": "JtzyLoM21hjM"
   },
   "outputs": [],
   "source": [
    "dfdummies= pd.get_dummies(etiquetas)\n",
    "dfdummies"
   ]
  },
  {
   "cell_type": "code",
   "execution_count": null,
   "metadata": {
    "id": "fiM3213Uptx2",
    "scrolled": true
   },
   "outputs": [],
   "source": [
    "correlation = dfdummies[dfdummies['Spec_B']==1].corr()\n",
    "plt.figure(figsize=(10, 10))\n",
    "sns.heatmap(correlation, annot=True)"
   ]
  },
  {
   "cell_type": "code",
   "execution_count": null,
   "metadata": {},
   "outputs": [],
   "source": []
  }
 ],
 "metadata": {
  "colab": {
   "collapsed_sections": [],
   "name": "Preprocessing.ipynb",
   "provenance": []
  },
  "kernelspec": {
   "display_name": "Python 3",
   "language": "python",
   "name": "python3"
  },
  "language_info": {
   "codemirror_mode": {
    "name": "ipython",
    "version": 3
   },
   "file_extension": ".py",
   "mimetype": "text/x-python",
   "name": "python",
   "nbconvert_exporter": "python",
   "pygments_lexer": "ipython3",
   "version": "3.8.3"
  },
  "widgets": {
   "application/vnd.jupyter.widget-state+json": {
    "1c5b2b35a8914b2fa249dc7416bc32e6": {
     "model_module": "@jupyter-widgets/controls",
     "model_name": "DescriptionStyleModel",
     "state": {
      "_model_module": "@jupyter-widgets/controls",
      "_model_module_version": "1.5.0",
      "_model_name": "DescriptionStyleModel",
      "_view_count": null,
      "_view_module": "@jupyter-widgets/base",
      "_view_module_version": "1.2.0",
      "_view_name": "StyleView",
      "description_width": ""
     }
    },
    "3653b73a8c074bc6acfb48811d013e68": {
     "model_module": "@jupyter-widgets/controls",
     "model_name": "ProgressStyleModel",
     "state": {
      "_model_module": "@jupyter-widgets/controls",
      "_model_module_version": "1.5.0",
      "_model_name": "ProgressStyleModel",
      "_view_count": null,
      "_view_module": "@jupyter-widgets/base",
      "_view_module_version": "1.2.0",
      "_view_name": "StyleView",
      "bar_color": null,
      "description_width": "initial"
     }
    },
    "54c6f80e52904c7bad8e97462dcf1c27": {
     "model_module": "@jupyter-widgets/controls",
     "model_name": "HBoxModel",
     "state": {
      "_dom_classes": [],
      "_model_module": "@jupyter-widgets/controls",
      "_model_module_version": "1.5.0",
      "_model_name": "HBoxModel",
      "_view_count": null,
      "_view_module": "@jupyter-widgets/controls",
      "_view_module_version": "1.5.0",
      "_view_name": "HBoxView",
      "box_style": "",
      "children": [
       "IPY_MODEL_6f5cfde0be404d3baf55d152be7055eb",
       "IPY_MODEL_5efeb17bb9d54122aa3f10451b1cbdd6"
      ],
      "layout": "IPY_MODEL_ccfe9525511748b7bbd224ca8d93b0dc"
     }
    },
    "5efeb17bb9d54122aa3f10451b1cbdd6": {
     "model_module": "@jupyter-widgets/controls",
     "model_name": "HTMLModel",
     "state": {
      "_dom_classes": [],
      "_model_module": "@jupyter-widgets/controls",
      "_model_module_version": "1.5.0",
      "_model_name": "HTMLModel",
      "_view_count": null,
      "_view_module": "@jupyter-widgets/controls",
      "_view_module_version": "1.5.0",
      "_view_name": "HTMLView",
      "description": "",
      "description_tooltip": null,
      "layout": "IPY_MODEL_f826097864bf443298255c0f6bdc7f8d",
      "placeholder": "​",
      "style": "IPY_MODEL_1c5b2b35a8914b2fa249dc7416bc32e6",
      "value": " 175/5000 [01:12&lt;31:37,  2.54it/s]"
     }
    },
    "6f5cfde0be404d3baf55d152be7055eb": {
     "model_module": "@jupyter-widgets/controls",
     "model_name": "FloatProgressModel",
     "state": {
      "_dom_classes": [],
      "_model_module": "@jupyter-widgets/controls",
      "_model_module_version": "1.5.0",
      "_model_name": "FloatProgressModel",
      "_view_count": null,
      "_view_module": "@jupyter-widgets/controls",
      "_view_module_version": "1.5.0",
      "_view_name": "ProgressView",
      "bar_style": "",
      "description": "  4%",
      "description_tooltip": null,
      "layout": "IPY_MODEL_87c88b42312243c193303d2b95835036",
      "max": 5000,
      "min": 0,
      "orientation": "horizontal",
      "style": "IPY_MODEL_3653b73a8c074bc6acfb48811d013e68",
      "value": 175
     }
    },
    "87c88b42312243c193303d2b95835036": {
     "model_module": "@jupyter-widgets/base",
     "model_name": "LayoutModel",
     "state": {
      "_model_module": "@jupyter-widgets/base",
      "_model_module_version": "1.2.0",
      "_model_name": "LayoutModel",
      "_view_count": null,
      "_view_module": "@jupyter-widgets/base",
      "_view_module_version": "1.2.0",
      "_view_name": "LayoutView",
      "align_content": null,
      "align_items": null,
      "align_self": null,
      "border": null,
      "bottom": null,
      "display": null,
      "flex": null,
      "flex_flow": null,
      "grid_area": null,
      "grid_auto_columns": null,
      "grid_auto_flow": null,
      "grid_auto_rows": null,
      "grid_column": null,
      "grid_gap": null,
      "grid_row": null,
      "grid_template_areas": null,
      "grid_template_columns": null,
      "grid_template_rows": null,
      "height": null,
      "justify_content": null,
      "justify_items": null,
      "left": null,
      "margin": null,
      "max_height": null,
      "max_width": null,
      "min_height": null,
      "min_width": null,
      "object_fit": null,
      "object_position": null,
      "order": null,
      "overflow": null,
      "overflow_x": null,
      "overflow_y": null,
      "padding": null,
      "right": null,
      "top": null,
      "visibility": null,
      "width": null
     }
    },
    "ccfe9525511748b7bbd224ca8d93b0dc": {
     "model_module": "@jupyter-widgets/base",
     "model_name": "LayoutModel",
     "state": {
      "_model_module": "@jupyter-widgets/base",
      "_model_module_version": "1.2.0",
      "_model_name": "LayoutModel",
      "_view_count": null,
      "_view_module": "@jupyter-widgets/base",
      "_view_module_version": "1.2.0",
      "_view_name": "LayoutView",
      "align_content": null,
      "align_items": null,
      "align_self": null,
      "border": null,
      "bottom": null,
      "display": null,
      "flex": null,
      "flex_flow": null,
      "grid_area": null,
      "grid_auto_columns": null,
      "grid_auto_flow": null,
      "grid_auto_rows": null,
      "grid_column": null,
      "grid_gap": null,
      "grid_row": null,
      "grid_template_areas": null,
      "grid_template_columns": null,
      "grid_template_rows": null,
      "height": null,
      "justify_content": null,
      "justify_items": null,
      "left": null,
      "margin": null,
      "max_height": null,
      "max_width": null,
      "min_height": null,
      "min_width": null,
      "object_fit": null,
      "object_position": null,
      "order": null,
      "overflow": null,
      "overflow_x": null,
      "overflow_y": null,
      "padding": null,
      "right": null,
      "top": null,
      "visibility": null,
      "width": null
     }
    },
    "f826097864bf443298255c0f6bdc7f8d": {
     "model_module": "@jupyter-widgets/base",
     "model_name": "LayoutModel",
     "state": {
      "_model_module": "@jupyter-widgets/base",
      "_model_module_version": "1.2.0",
      "_model_name": "LayoutModel",
      "_view_count": null,
      "_view_module": "@jupyter-widgets/base",
      "_view_module_version": "1.2.0",
      "_view_name": "LayoutView",
      "align_content": null,
      "align_items": null,
      "align_self": null,
      "border": null,
      "bottom": null,
      "display": null,
      "flex": null,
      "flex_flow": null,
      "grid_area": null,
      "grid_auto_columns": null,
      "grid_auto_flow": null,
      "grid_auto_rows": null,
      "grid_column": null,
      "grid_gap": null,
      "grid_row": null,
      "grid_template_areas": null,
      "grid_template_columns": null,
      "grid_template_rows": null,
      "height": null,
      "justify_content": null,
      "justify_items": null,
      "left": null,
      "margin": null,
      "max_height": null,
      "max_width": null,
      "min_height": null,
      "min_width": null,
      "object_fit": null,
      "object_position": null,
      "order": null,
      "overflow": null,
      "overflow_x": null,
      "overflow_y": null,
      "padding": null,
      "right": null,
      "top": null,
      "visibility": null,
      "width": null
     }
    }
   }
  }
 },
 "nbformat": 4,
 "nbformat_minor": 1
}
